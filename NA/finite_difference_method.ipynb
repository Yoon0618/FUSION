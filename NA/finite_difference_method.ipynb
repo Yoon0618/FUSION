{
 "cells": [
  {
   "cell_type": "markdown",
   "id": "cc3755b9",
   "metadata": {},
   "source": [
    "# Finite difference method"
   ]
  },
  {
   "cell_type": "code",
   "execution_count": 2,
   "id": "b08c5a8e",
   "metadata": {},
   "outputs": [],
   "source": [
    "import numpy as np\n",
    "from numpy import cos, sin, tan, exp\n",
    "\n",
    "import matplotlib.pyplot as plt"
   ]
  },
  {
   "cell_type": "markdown",
   "id": "35f9f70c",
   "metadata": {},
   "source": [
    "Basic idea. 본래 미분은 무한히 작은 h를 사용한다. 수치적으로는 이것이 불가능하므로, 유한한(Finite) 크기의 h(Difference)를 사용해 미분을 근사한다."
   ]
  },
  {
   "cell_type": "markdown",
   "id": "a7771fec",
   "metadata": {},
   "source": [
    "# 1. Euler's method\n",
    "$\\frac{dx}{dx} = f(x(t), t)$\n",
    "\n",
    "for example, $\\frac{dx}{dt} = t cos(x) + t^2$\n",
    "\n",
    "So, initial condition($x(t_0)$) given, we know $\\frac{dx}{dt}|_{t_0}$.\n",
    "\n",
    "approximately, $\\frac{dx}{dt} \\approx \\frac{x(t+h) - x(t)}{h}$. Hence\n",
    "\n",
    "$\n",
    "x(t_0+h) \\approx x(t_0) + h( f(x(t_0), t_0)).\n",
    "$\n",
    "\n",
    "by repeat this process, we can solve ODE."
   ]
  },
  {
   "cell_type": "code",
   "execution_count": 10,
   "id": "e63bd6eb",
   "metadata": {},
   "outputs": [
    {
     "data": {
      "image/png": "[encoded data removed]",
      "text/plain": [
       "<Figure size 640x480 with 1 Axes>"
      ]
     },
     "metadata": {},
     "output_type": "display_data"
    }
   ],
   "source": [
    "\"\"\"\n",
    "1. \n",
    "u'(x) = ( u(x+h) - u(x) ) / h \n",
    "\"\"\"\n",
    "\n",
    "# initial condition\n",
    "t_0 = 0\n",
    "x_0 = 1\n",
    "h = 0.01 # time step\n",
    "T = 10 # period\n",
    "# differential equation\n",
    "x_prime = lambda x, t: t*cos(x) - t\n",
    "\n",
    "# solver\n",
    "x = x_0\n",
    "xs = []\n",
    "ts = np.arange(t_0, t_0+T, h)\n",
    "for t in ts:\n",
    "    m = x_prime(x, t)\n",
    "    x += m*h\n",
    "    xs.append(x)\n",
    "\n",
    "plt.plot(ts, xs)\n",
    "plt.show()"
   ]
  },
  {
   "cell_type": "markdown",
   "id": "786b3ecc",
   "metadata": {},
   "source": [
    "# 2. Midpoint method\n",
    "\n",
    "AKA modified Euler method. there are two version of this method: explicit and implicit method.\n",
    "\n",
    "benefits and disadvantages are significiant. explicit method is fast but not stable and accurate. In contrast implicit method is stable and accurate but slow.\n",
    "\n",
    "Expression\n",
    "ODE want to solve: $x'(t) = f(x(t), t)$\n",
    "\n",
    "for small h, we can approximating x'(t) as below.\n",
    "$x'(t) \\approx \\frac{x(t+h) - x(t)}{h} $\n",
    "\n",
    "BUT, right hand side is more suitable with $x'(t+h/2)$, not $x'(t)$.\n",
    "\n",
    "$x'(t+h/2) \\approx \\frac{x(t+h) - x(t)}{h} $\n",
    "\n",
    "So $x(t+h) \\approx x(t) + h x'(t+h/2) \\\\ = x(t) + h f( x(t+h/2), t+h/2)$\n",
    "\n",
    "we don't know value of $x(t+h/2) yet. It can be evaluated by Taylor expansion.\n",
    "\n",
    "$x(t+h/2) \\approx x(t) + h/2 x'(t) = x(t) +h/2 f(x(t), t)$\n",
    "\n",
    "Finally, we got explicit midpoint method:\n",
    "\n",
    "$x(t+h) \\approx x(t) + h f( x(t) + h/2 f(x(t), t), t+h/2)$\n",
    "\n",
    "Now, let's derive implicit method.\n",
    "\n",
    "first, rewrite explicit method in more simple form.\n",
    "\n",
    "$x(t+h) \\approx x(t) + hk$ where $k=f( x(t) + h/2 f(x(t), t), t+h/2)$\n",
    "\n",
    "while deriving this method, we assumed:\n",
    "\n",
    "$x'(t+h/2) \\approx \\frac{1}{2} (x(t) + x(t+h)) \\approx k$\n",
    "\n",
    "and by given ODE:\n",
    "\n",
    "$x'(t+h/2) = f(x(t+h/2), t+h/2) \\approx f( x(t) + kh/2, t+h/2) = k$\n",
    "$y(t+h) \\approx y(t) + hk$\n",
    "\n",
    "this is implicit midpoint method.\n"
   ]
  },
  {
   "cell_type": "code",
   "execution_count": null,
   "id": "e92704ab",
   "metadata": {},
   "outputs": [],
   "source": [
    "import numpy as np\n",
    "import matplotlib.pyplot as plt\n",
    "\n",
    "\"\"\"\n",
    "ODE: \n",
    "\"\"\""
   ]
  },
  {
   "cell_type": "markdown",
   "id": "bb1719a4",
   "metadata": {},
   "source": [
    "# 3. Heun's method\n",
    "\n",
    "Expression\n",
    "ODE want to solve: $x'(t) = f(x(t), t)$\n",
    "\n",
    "Using Euler's method, $\\bar{x}(t+h) \\approx x(t) + h f(x(t), t)$.\n",
    "\n",
    "then $x'(t+h) = f(\\bar{x}(t+h), t+h) \\approx f( x(t) + h f(x(t), t), t+h)$.\n",
    "\n",
    "we can get more accurate tangent via these $x'$s.\n",
    "\n",
    "$S_{ideal}= \\frac{1}{2} (S_{left} + S_{right})= \\frac{1}{2} (x'(t)+x'(t+h))$\n",
    "\n",
    "$x(t+h) \\approx x(t) + h S_{ideal}$\n",
    "$=x(t) + h (\\frac{1}{2} (x'(t)+x'(t+h)))$\n",
    "\n",
    "$x(t+h) \\approx x(t) + h \\frac{1}{2} ( f(x(t), t) + f(x(t) + h f(x(t), t), t+h))$\n",
    "\n",
    "this is Heun's method.\n"
   ]
  },
  {
   "cell_type": "code",
   "execution_count": null,
   "id": "44174fef",
   "metadata": {},
   "outputs": [],
   "source": []
  },
  {
   "cell_type": "markdown",
   "id": "3d772047",
   "metadata": {},
   "source": [
    "# Linear Algebra"
   ]
  },
  {
   "cell_type": "code",
   "execution_count": 3,
   "id": "961a3196",
   "metadata": {},
   "outputs": [],
   "source": [
    "import numpy as np\n",
    "\n",
    "a = np.array([1, 2]) # row vector\n",
    "b = np.array([[1],\n",
    "              [2]]) # column vector\n",
    "A = np.array([[1, 1],\n",
    "             [2, 3]]) # 2 by 2 matrix\n",
    "B = np.array([[3, 1],\n",
    "              [4, 1]]) # 2 by 2 matrix\n",
    "\n",
    "# vector operations\n",
    "# dot product\n",
    "a_dot_b = np.dot(a, b)\n",
    "# cross product\n",
    "\n",
    "# matrix operations\n",
    "# matrix multiplication\n",
    "AB = np.dot(A, B)\n",
    "# inverse matrix\n",
    "A_inv = np.linalg.inv(A)\n",
    "# check A_inv is inverse of A\n",
    "np.allclose(np.dot(A_inv, A), np.eye(2)) # np.eye(N) is NxN identity matrix\n",
    "# determinant\n",
    "detA = np.linalg.det(A)\n",
    "# traspose\n",
    "AT = A.T\n",
    "# eigenvalue, eigenvector\n",
    "vals, vecs = np.linalg.eig(A)\n",
    "# solve system of linear equations, Ax = b\n",
    "b = np.array([5, 11])\n",
    "x = np.linalg.solve(A, b)\n",
    "\n",
    "# operation between vector and matrix\n",
    "aA = np.dot(a, A) # result is row vector\n",
    "Ab = np.dot(A, b) # result is column vector"
   ]
  },
  {
   "cell_type": "markdown",
   "id": "fe5663f0",
   "metadata": {},
   "source": []
  }
 ],
 "metadata": {
  "kernelspec": {
   "display_name": ".venv",
   "language": "python",
   "name": "python3"
  },
  "language_info": {
   "codemirror_mode": {
    "name": "ipython",
    "version": 3
   },
   "file_extension": ".py",
   "mimetype": "text/x-python",
   "name": "python",
   "nbconvert_exporter": "python",
   "pygments_lexer": "ipython3",
   "version": "3.10.10"
  }
 },
 "nbformat": 4,
 "nbformat_minor": 5
}
